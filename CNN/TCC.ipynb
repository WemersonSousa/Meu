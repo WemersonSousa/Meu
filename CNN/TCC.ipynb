{
 "cells": [
  {
   "cell_type": "markdown",
   "metadata": {},
   "source": [
    "# Bibliotecas"
   ]
  },
  {
   "cell_type": "code",
   "execution_count": 3,
   "metadata": {},
   "outputs": [],
   "source": [
    "import tensorflow as tf\n",
    "from tensorflow.keras import datasets, layers, models\n",
    "import matplotlib.pyplot as plt\n",
    "import numpy as np\n",
    "import scipy.io\n",
    "import csv\n",
    "import pandas\n",
    "\n",
    "from sklearn.metrics import confusion_matrix , classification_report\n",
    "from sklearn.model_selection import train_test_split"
   ]
  },
  {
   "cell_type": "markdown",
   "metadata": {},
   "source": [
    "# Import Dataset"
   ]
  },
  {
   "cell_type": "code",
   "execution_count": 4,
   "metadata": {},
   "outputs": [],
   "source": [
    "#Importando feixes\n",
    "xtreino = scipy.io.loadmat('C:\\\\Users\\\\wemer\\\\Documents\\\\MATLAB\\\\Dataset\\\\Hologramas\\\\Treino\\\\BP\\\\Train_Beam.mat')\n",
    "xteste = scipy.io.loadmat('C:\\\\Users\\\\wemer\\\\Documents\\\\MATLAB\\\\Dataset\\\\Hologramas\\\\Teste\\\\BP\\\\Test_Beam.mat')\n",
    "#importando apontamento\n",
    "xteste_apontamento = scipy.io.loadmat('C:\\\\Users\\\\wemer\\\\Documents\\\\MATLAB\\\\Dataset\\\\Hologramas\\\\Teste\\\\HOLO\\\\Test_Apontamento.mat')\n"
   ]
  },
  {
   "cell_type": "code",
   "execution_count": 5,
   "metadata": {},
   "outputs": [],
   "source": [
    "#importando todas as linhas da matriz\n",
    "#1\n",
    "ytreino1 = scipy.io.loadmat('C:\\\\Users\\\\wemer\\\\Documents\\\\MATLAB\\\\Dataset\\\\Hologramas\\\\Treino\\\\HOLO\\\\Train_holo_Linha_1.mat')\n",
    "yteste1 = scipy.io.loadmat('C:\\\\Users\\\\wemer\\\\Documents\\\\MATLAB\\\\Dataset\\\\Hologramas\\\\Teste\\\\HOLO\\\\Test_Holo_Linha_1.mat')\n",
    "#2\n",
    "ytreino2 = scipy.io.loadmat('C:\\\\Users\\\\wemer\\\\Documents\\\\MATLAB\\\\Dataset\\\\Hologramas\\\\Treino\\\\HOLO\\\\Train_holo_Linha_2.mat')\n",
    "yteste2 = scipy.io.loadmat('C:\\\\Users\\\\wemer\\\\Documents\\\\MATLAB\\\\Dataset\\\\Hologramas\\\\Teste\\\\HOLO\\\\Test_Holo_Linha_2.mat')\n",
    "#3\n",
    "ytreino3 = scipy.io.loadmat('C:\\\\Users\\\\wemer\\\\Documents\\\\MATLAB\\\\Dataset\\\\Hologramas\\\\Treino\\\\HOLO\\\\Train_holo_Linha_3.mat')\n",
    "yteste3 = scipy.io.loadmat('C:\\\\Users\\\\wemer\\\\Documents\\\\MATLAB\\\\Dataset\\\\Hologramas\\\\Teste\\\\HOLO\\\\Test_Holo_Linha_3.mat')\n",
    "#4\n",
    "ytreino4 = scipy.io.loadmat('C:\\\\Users\\\\wemer\\\\Documents\\\\MATLAB\\\\Dataset\\\\Hologramas\\\\Treino\\\\HOLO\\\\Train_holo_Linha_4.mat')\n",
    "yteste4 = scipy.io.loadmat('C:\\\\Users\\\\wemer\\\\Documents\\\\MATLAB\\\\Dataset\\\\Hologramas\\\\Teste\\\\HOLO\\\\Test_Holo_Linha_4.mat')\n",
    "#5\n",
    "ytreino5 = scipy.io.loadmat('C:\\\\Users\\\\wemer\\\\Documents\\\\MATLAB\\\\Dataset\\\\Hologramas\\\\Treino\\\\HOLO\\\\Train_holo_Linha_5.mat')\n",
    "yteste5 = scipy.io.loadmat('C:\\\\Users\\\\wemer\\\\Documents\\\\MATLAB\\\\Dataset\\\\Hologramas\\\\Teste\\\\HOLO\\\\Test_Holo_Linha_5.mat')\n",
    "#6\n",
    "ytreino6 = scipy.io.loadmat('C:\\\\Users\\\\wemer\\\\Documents\\\\MATLAB\\\\Dataset\\\\Hologramas\\\\Treino\\\\HOLO\\\\Train_holo_Linha_6.mat')\n",
    "yteste6 = scipy.io.loadmat('C:\\\\Users\\\\wemer\\\\Documents\\\\MATLAB\\\\Dataset\\\\Hologramas\\\\Teste\\\\HOLO\\\\Test_Holo_Linha_6.mat')\n",
    "#7\n",
    "ytreino7 = scipy.io.loadmat('C:\\\\Users\\\\wemer\\\\Documents\\\\MATLAB\\\\Dataset\\\\Hologramas\\\\Treino\\\\HOLO\\\\Train_holo_Linha_7.mat')\n",
    "yteste7 = scipy.io.loadmat('C:\\\\Users\\\\wemer\\\\Documents\\\\MATLAB\\\\Dataset\\\\Hologramas\\\\Teste\\\\HOLO\\\\Test_Holo_Linha_7.mat')\n",
    "#8\n",
    "ytreino8 = scipy.io.loadmat('C:\\\\Users\\\\wemer\\\\Documents\\\\MATLAB\\\\Dataset\\\\Hologramas\\\\Treino\\\\HOLO\\\\Train_holo_Linha_8.mat')\n",
    "yteste8 = scipy.io.loadmat('C:\\\\Users\\\\wemer\\\\Documents\\\\MATLAB\\\\Dataset\\\\Hologramas\\\\Teste\\\\HOLO\\\\Test_Holo_Linha_8.mat')\n",
    "#9\n",
    "ytreino9 = scipy.io.loadmat('C:\\\\Users\\\\wemer\\\\Documents\\\\MATLAB\\\\Dataset\\\\Hologramas\\\\Treino\\\\HOLO\\\\Train_holo_Linha_9.mat')\n",
    "yteste9 = scipy.io.loadmat('C:\\\\Users\\\\wemer\\\\Documents\\\\MATLAB\\\\Dataset\\\\Hologramas\\\\Teste\\\\HOLO\\\\Test_Holo_Linha_9.mat')\n",
    "#10\n",
    "ytreino10 = scipy.io.loadmat('C:\\\\Users\\\\wemer\\\\Documents\\\\MATLAB\\\\Dataset\\\\Hologramas\\\\Treino\\\\HOLO\\\\Train_holo_Linha_10.mat')\n",
    "yteste10 = scipy.io.loadmat('C:\\\\Users\\\\wemer\\\\Documents\\\\MATLAB\\\\Dataset\\\\Hologramas\\\\Teste\\\\HOLO\\\\Test_Holo_Linha_10.mat')\n",
    "#11\n",
    "ytreino11 = scipy.io.loadmat('C:\\\\Users\\\\wemer\\\\Documents\\\\MATLAB\\\\Dataset\\\\Hologramas\\\\Treino\\\\HOLO\\\\Train_holo_Linha_11.mat')\n",
    "yteste11 = scipy.io.loadmat('C:\\\\Users\\\\wemer\\\\Documents\\\\MATLAB\\\\Dataset\\\\Hologramas\\\\Teste\\\\HOLO\\\\Test_Holo_Linha_11.mat')"
   ]
  },
  {
   "cell_type": "code",
   "execution_count": 6,
   "metadata": {},
   "outputs": [],
   "source": [
    "qtde = len(yteste1['Test_Holo_Linha_1'])\n",
    "y_test = np.zeros([qtde,11, 1])\n",
    "qtde_treino = len(ytreino1['Train_holo_Linha_1'])\n",
    "y_train = np.zeros([qtde_treino,11, 1])\n",
    "#1\n",
    "y_train[:,0] = ytreino1['Train_holo_Linha_1']\n",
    "y_test[:,0] = yteste1['Test_Holo_Linha_1']\n",
    "#2\n",
    "y_train[:,1] = ytreino2['Train_holo_Linha_2']\n",
    "y_test[:,1]  = yteste2['Test_Holo_Linha_2']\n",
    "#3\n",
    "y_train[:,2] = ytreino3['Train_holo_Linha_3']\n",
    "y_test[:,2] = yteste3['Test_Holo_Linha_3']\n",
    "#4\n",
    "y_train[:,3] = ytreino4['Train_holo_Linha_4']\n",
    "y_test[:,3] = yteste4['Test_Holo_Linha_4']\n",
    "#5\n",
    "y_train[:,4] = ytreino5['Train_holo_Linha_5']\n",
    "y_test[:,4] = yteste5['Test_Holo_Linha_5']\n",
    "#6\n",
    "y_train[:,5] = ytreino6['Train_holo_Linha_6']\n",
    "y_test[:,5] = yteste6['Test_Holo_Linha_6']\n",
    "#7\n",
    "y_train[:,6] = ytreino7['Train_holo_Linha_7']\n",
    "y_test[:,6] = yteste7['Test_Holo_Linha_7']\n",
    "#8\n",
    "y_train[:,7] = ytreino8['Train_holo_Linha_8']\n",
    "y_test[:,7] = yteste8['Test_Holo_Linha_8']\n",
    "#9\n",
    "y_train[:,8] = ytreino9['Train_holo_Linha_9']\n",
    "y_test[:,8] = yteste9['Test_Holo_Linha_9']\n",
    "#10\n",
    "y_train[:,9] = ytreino10['Train_holo_Linha_10']\n",
    "y_test[:,9] = yteste10['Test_Holo_Linha_10']\n",
    "#11\n",
    "y_train[:,10] = ytreino11['Train_holo_Linha_11']\n",
    "y_test[:,10] = yteste11['Test_Holo_Linha_11']"
   ]
  },
  {
   "cell_type": "code",
   "execution_count": 7,
   "metadata": {},
   "outputs": [
    {
     "data": {
      "text/plain": [
       "array([0., 0., 0., 0., 0.])"
      ]
     },
     "execution_count": 7,
     "metadata": {},
     "output_type": "execute_result"
    }
   ],
   "source": [
    "y_test = y_test.reshape(qtde,11,)\n",
    "y_train = y_train.reshape(qtde_treino,11,)\n",
    "\n",
    "y_test[:5,0]\n"
   ]
  },
  {
   "cell_type": "code",
   "execution_count": 8,
   "metadata": {},
   "outputs": [
    {
     "data": {
      "text/plain": [
       "8006"
      ]
     },
     "execution_count": 8,
     "metadata": {},
     "output_type": "execute_result"
    }
   ],
   "source": [
    "qtde"
   ]
  },
  {
   "cell_type": "code",
   "execution_count": 9,
   "metadata": {},
   "outputs": [
    {
     "data": {
      "text/plain": [
       "64800"
      ]
     },
     "execution_count": 9,
     "metadata": {},
     "output_type": "execute_result"
    }
   ],
   "source": [
    "qtde_treino"
   ]
  },
  {
   "cell_type": "code",
   "execution_count": 10,
   "metadata": {},
   "outputs": [
    {
     "data": {
      "text/plain": [
       "(64800, 37, 37)"
      ]
     },
     "execution_count": 10,
     "metadata": {},
     "output_type": "execute_result"
    }
   ],
   "source": [
    "x_train = xtreino['Train_Beam']\n",
    "x_test = xteste['Test_Beam']\n",
    "x_test_apontamento = xteste_apontamento['Test_Apontamento']\n",
    "pixelsx = 37\n",
    "x_train.shape"
   ]
  },
  {
   "cell_type": "code",
   "execution_count": 11,
   "metadata": {},
   "outputs": [],
   "source": [
    "def plot_sample(X, y, index):\n",
    "    plt.figure(figsize = (15,2))\n",
    "    plt.imshow(X[index])\n",
    "    plt.xlabel([y[index]])"
   ]
  },
  {
   "cell_type": "code",
   "execution_count": 12,
   "metadata": {},
   "outputs": [
    {
     "data": {
      "image/png": "[encoded data removed]",
      "text/plain": [
       "<Figure size 1080x144 with 1 Axes>"
      ]
     },
     "metadata": {
      "needs_background": "light"
     },
     "output_type": "display_data"
    }
   ],
   "source": [
    "plot_sample(x_train, y_train[:,0], 10300)"
   ]
  },
  {
   "cell_type": "code",
   "execution_count": 13,
   "metadata": {},
   "outputs": [
    {
     "data": {
      "text/plain": [
       "array([[0.11770834, 0.11770834, 0.11770834, ..., 0.11770834, 0.11770834,\n",
       "        0.11770834],\n",
       "       [0.18519326, 0.18068698, 0.17507102, ..., 0.18677375, 0.18756657,\n",
       "        0.18519326],\n",
       "       [0.212157  , 0.18962309, 0.16741577, ..., 0.24689434, 0.23233061,\n",
       "        0.212157  ],\n",
       "       ...,\n",
       "       [0.212157  , 0.18962309, 0.16741577, ..., 0.24689434, 0.23233061,\n",
       "        0.212157  ],\n",
       "       [0.18519326, 0.18068698, 0.17507102, ..., 0.18677375, 0.18756657,\n",
       "        0.18519326],\n",
       "       [0.11770834, 0.11770834, 0.11770834, ..., 0.11770834, 0.11770834,\n",
       "        0.11770834]])"
      ]
     },
     "execution_count": 13,
     "metadata": {},
     "output_type": "execute_result"
    }
   ],
   "source": [
    "x_train[10300]"
   ]
  },
  {
   "cell_type": "markdown",
   "metadata": {},
   "source": [
    "# Model 1:"
   ]
  },
  {
   "cell_type": "code",
   "execution_count": 14,
   "metadata": {},
   "outputs": [
    {
     "name": "stdout",
     "output_type": "stream",
     "text": [
      "Model: \"sequential\"\n",
      "_________________________________________________________________\n",
      "Layer (type)                 Output Shape              Param #   \n",
      "=================================================================\n",
      "conv2d (Conv2D)              (None, 35, 35, 16)        160       \n",
      "_________________________________________________________________\n",
      "max_pooling2d (MaxPooling2D) (None, 17, 17, 16)        0         \n",
      "_________________________________________________________________\n",
      "conv2d_1 (Conv2D)            (None, 15, 15, 16)        2320      \n",
      "_________________________________________________________________\n",
      "max_pooling2d_1 (MaxPooling2 (None, 7, 7, 16)          0         \n",
      "_________________________________________________________________\n",
      "conv2d_2 (Conv2D)            (None, 7, 7, 16)          272       \n",
      "_________________________________________________________________\n",
      "conv2d_3 (Conv2D)            (None, 7, 7, 16)          272       \n",
      "_________________________________________________________________\n",
      "conv2d_4 (Conv2D)            (None, 7, 7, 16)          272       \n",
      "_________________________________________________________________\n",
      "conv2d_5 (Conv2D)            (None, 7, 7, 16)          272       \n",
      "_________________________________________________________________\n",
      "conv2d_6 (Conv2D)            (None, 7, 7, 16)          272       \n",
      "_________________________________________________________________\n",
      "max_pooling2d_2 (MaxPooling2 (None, 3, 3, 16)          0         \n",
      "_________________________________________________________________\n",
      "flatten (Flatten)            (None, 144)               0         \n",
      "_________________________________________________________________\n",
      "dense (Dense)                (None, 2048)              296960    \n",
      "=================================================================\n",
      "Total params: 300,800\n",
      "Trainable params: 300,800\n",
      "Non-trainable params: 0\n",
      "_________________________________________________________________\n"
     ]
    }
   ],
   "source": [
    "model1 = models.Sequential()\n",
    "# Feature Extraction Section (The Convolution and The Pooling Layer)\n",
    "model1.add(layers.Conv2D(filters=16, kernel_size=(3, 3), activation='relu', input_shape=(pixelsx, pixelsx, 1)))\n",
    "model1.add(layers.MaxPooling2D())\n",
    "model1.add(layers.Conv2D(filters=16, kernel_size=(3, 3), activation='relu'))\n",
    "model1.add(layers.MaxPooling2D())\n",
    "model1.add(layers.Conv2D(filters=16, kernel_size=(1, 1), activation='relu'))\n",
    "model1.add(layers.Conv2D(filters=16, kernel_size=(1, 1), activation='relu'))\n",
    "model1.add(layers.Conv2D(filters=16, kernel_size=(1, 1), activation='relu'))\n",
    "model1.add(layers.Conv2D(filters=16, kernel_size=(1, 1), activation='relu'))\n",
    "model1.add(layers.Conv2D(filters=16, kernel_size=(1, 1), activation='relu'))\n",
    "#model.add(layers.Conv2D(filters=16, kernel_size=(3, 3), activation='relu'))\n",
    "model1.add(layers.MaxPooling2D())\n",
    "#model.add(layers.Conv2D(filters=16, kernel_size=(3, 3), activation='relu'))\n",
    "# Reshape the image into one-dimensional vector\n",
    "model1.add(layers.Flatten())\n",
    "# Classification Section (The Fully Connected Layer)\n",
    "#model.add(layers.Dense(120, activation='relu'))\n",
    "#model.add(layers.Dense(84, activation='relu'))\n",
    "model1.add(layers.Dense(2048, activation='softmax'))\n",
    "# Show summary of the model\n",
    "model1.summary()"
   ]
  },
  {
   "cell_type": "markdown",
   "metadata": {},
   "source": [
    "# Organizando dataset"
   ]
  },
  {
   "cell_type": "code",
   "execution_count": 15,
   "metadata": {},
   "outputs": [],
   "source": [
    "x_train = x_train.reshape(-1, pixelsx, pixelsx, 1)\n",
    "x_test = x_test.reshape(-1, pixelsx, pixelsx, 1)"
   ]
  },
  {
   "cell_type": "code",
   "execution_count": 16,
   "metadata": {},
   "outputs": [],
   "source": [
    "# Split into training and validation dataset\n",
    "x_train_1, x_val_1, y_train_1, y_val_1 = train_test_split(x_train, y_train[:,0], test_size=0.2, random_state=42)\n",
    "x_train_2, x_val_2, y_train_2, y_val_2 = train_test_split(x_train, y_train[:,1], test_size=0.2, random_state=42)\n",
    "x_train_3, x_val_3, y_train_3, y_val_3 = train_test_split(x_train, y_train[:,2], test_size=0.2, random_state=42)\n",
    "x_train_4, x_val_4, y_train_4, y_val_4 = train_test_split(x_train, y_train[:,3], test_size=0.2, random_state=42)\n",
    "x_train_5, x_val_5, y_train_5, y_val_5 = train_test_split(x_train, y_train[:,4], test_size=0.2, random_state=42)\n",
    "x_train_6, x_val_6, y_train_6, y_val_6 = train_test_split(x_train, y_train[:,5], test_size=0.2, random_state=42)\n",
    "x_train_7, x_val_7, y_train_7, y_val_7 = train_test_split(x_train, y_train[:,6], test_size=0.2, random_state=42)\n",
    "x_train_8, x_val_8, y_train_8, y_val_8 = train_test_split(x_train, y_train[:,7], test_size=0.2, random_state=42)\n",
    "x_train_9, x_val_9, y_train_9, y_val_9 = train_test_split(x_train, y_train[:,8], test_size=0.2, random_state=42)\n",
    "x_train_10, x_val_10, y_train_10, y_val_10 = train_test_split(x_train, y_train[:,9], test_size=0.2, random_state=42)\n",
    "x_train_11, x_val_11, y_train_11, y_val_11 = train_test_split(x_train, y_train[:,10], test_size=0.2, random_state=42)"
   ]
  },
  {
   "cell_type": "markdown",
   "metadata": {},
   "source": [
    "# Compilando e Avaliando Modelo"
   ]
  },
  {
   "cell_type": "code",
   "execution_count": 17,
   "metadata": {
    "scrolled": true
   },
   "outputs": [
    {
     "name": "stdout",
     "output_type": "stream",
     "text": [
      "Epoch 1/10\n",
      "1620/1620 [==============================] - 49s 28ms/step - loss: 3.8854 - accuracy: 0.1903 - val_loss: 2.1986 - val_accuracy: 0.4219\n",
      "Epoch 2/10\n",
      "1620/1620 [==============================] - 41s 25ms/step - loss: 1.9445 - accuracy: 0.4600 - val_loss: 1.3928 - val_accuracy: 0.5995\n",
      "Epoch 3/10\n",
      "1620/1620 [==============================] - 44s 27ms/step - loss: 1.2753 - accuracy: 0.6155 - val_loss: 1.0705 - val_accuracy: 0.6767\n",
      "Epoch 4/10\n",
      "1620/1620 [==============================] - 42s 26ms/step - loss: 1.0100 - accuracy: 0.6925 - val_loss: 0.9107 - val_accuracy: 0.7199\n",
      "Epoch 5/10\n",
      "1620/1620 [==============================] - 44s 27ms/step - loss: 0.8416 - accuracy: 0.7374 - val_loss: 0.8611 - val_accuracy: 0.7290\n",
      "Epoch 6/10\n",
      "1620/1620 [==============================] - 41s 26ms/step - loss: 0.7625 - accuracy: 0.7597 - val_loss: 0.8419 - val_accuracy: 0.7360\n",
      "Epoch 7/10\n",
      "1620/1620 [==============================] - 42s 26ms/step - loss: 0.6966 - accuracy: 0.7770 - val_loss: 0.7043 - val_accuracy: 0.7778\n",
      "Epoch 8/10\n",
      "1620/1620 [==============================] - 43s 27ms/step - loss: 0.6318 - accuracy: 0.7970 - val_loss: 0.6614 - val_accuracy: 0.7983\n",
      "Epoch 9/10\n",
      "1620/1620 [==============================] - 43s 26ms/step - loss: 0.5895 - accuracy: 0.8084 - val_loss: 0.6171 - val_accuracy: 0.8138\n",
      "Epoch 10/10\n",
      "1620/1620 [==============================] - 42s 26ms/step - loss: 0.5636 - accuracy: 0.8141 - val_loss: 0.6122 - val_accuracy: 0.8110\n",
      "251/251 [==============================] - 2s 9ms/step - loss: 0.4678 - accuracy: 0.8511\n"
     ]
    }
   ],
   "source": [
    "# Compile The Model\n",
    "model1.compile(optimizer='adam',loss=tf.keras.losses.SparseCategoricalCrossentropy(from_logits=True),metrics=['accuracy'])\n",
    "# Fit And Evaluate The Model Using Validation Dataset\n",
    "model1.fit(x_train_1, y_train_1, epochs=10, validation_data=(x_val_1, y_val_1))\n",
    "model1.evaluate(x_test,y_test[:,0])\n",
    "y_pred1 = model1.predict(x_test)"
   ]
  },
  {
   "cell_type": "code",
   "execution_count": 18,
   "metadata": {},
   "outputs": [
    {
     "name": "stdout",
     "output_type": "stream",
     "text": [
      "Model: \"sequential_1\"\n",
      "_________________________________________________________________\n",
      "Layer (type)                 Output Shape              Param #   \n",
      "=================================================================\n",
      "conv2d_7 (Conv2D)            (None, 35, 35, 16)        160       \n",
      "_________________________________________________________________\n",
      "max_pooling2d_3 (MaxPooling2 (None, 17, 17, 16)        0         \n",
      "_________________________________________________________________\n",
      "conv2d_8 (Conv2D)            (None, 15, 15, 16)        2320      \n",
      "_________________________________________________________________\n",
      "max_pooling2d_4 (MaxPooling2 (None, 7, 7, 16)          0         \n",
      "_________________________________________________________________\n",
      "conv2d_9 (Conv2D)            (None, 7, 7, 16)          272       \n",
      "_________________________________________________________________\n",
      "conv2d_10 (Conv2D)           (None, 7, 7, 16)          272       \n",
      "_________________________________________________________________\n",
      "conv2d_11 (Conv2D)           (None, 7, 7, 16)          272       \n",
      "_________________________________________________________________\n",
      "conv2d_12 (Conv2D)           (None, 7, 7, 16)          272       \n",
      "_________________________________________________________________\n",
      "conv2d_13 (Conv2D)           (None, 7, 7, 16)          272       \n",
      "_________________________________________________________________\n",
      "max_pooling2d_5 (MaxPooling2 (None, 3, 3, 16)          0         \n",
      "_________________________________________________________________\n",
      "flatten_1 (Flatten)          (None, 144)               0         \n",
      "_________________________________________________________________\n",
      "dense_1 (Dense)              (None, 2048)              296960    \n",
      "=================================================================\n",
      "Total params: 300,800\n",
      "Trainable params: 300,800\n",
      "Non-trainable params: 0\n",
      "_________________________________________________________________\n"
     ]
    }
   ],
   "source": [
    "model2 = models.Sequential()\n",
    "# Feature Extraction Section (The Convolution and The Pooling Layer)\n",
    "model2.add(layers.Conv2D(filters=16, kernel_size=(3, 3), activation='relu', input_shape=(pixelsx, pixelsx, 1)))\n",
    "model2.add(layers.MaxPooling2D())\n",
    "model2.add(layers.Conv2D(filters=16, kernel_size=(3, 3), activation='relu'))\n",
    "model2.add(layers.MaxPooling2D())\n",
    "model2.add(layers.Conv2D(filters=16, kernel_size=(1, 1), activation='relu'))\n",
    "model2.add(layers.Conv2D(filters=16, kernel_size=(1, 1), activation='relu'))\n",
    "model2.add(layers.Conv2D(filters=16, kernel_size=(1, 1), activation='relu'))\n",
    "model2.add(layers.Conv2D(filters=16, kernel_size=(1, 1), activation='relu'))\n",
    "model2.add(layers.Conv2D(filters=16, kernel_size=(1, 1), activation='relu'))\n",
    "#model.add(layers.Conv2D(filters=16, kernel_size=(3, 3), activation='relu'))\n",
    "model2.add(layers.MaxPooling2D())\n",
    "#model.add(layers.Conv2D(filters=16, kernel_size=(3, 3), activation='relu'))\n",
    "# Reshape the image into one-dimensional vector\n",
    "model2.add(layers.Flatten())\n",
    "# Classification Section (The Fully Connected Layer)\n",
    "#model.add(layers.Dense(120, activation='relu'))\n",
    "#model.add(layers.Dense(84, activation='relu'))\n",
    "model2.add(layers.Dense(2048, activation='softmax'))\n",
    "# Show summary of the model\n",
    "model2.summary()"
   ]
  },
  {
   "cell_type": "code",
   "execution_count": 19,
   "metadata": {},
   "outputs": [
    {
     "name": "stdout",
     "output_type": "stream",
     "text": [
      "Epoch 1/10\n",
      "1620/1620 [==============================] - 42s 25ms/step - loss: 3.4440 - accuracy: 0.2377 - val_loss: 1.5357 - val_accuracy: 0.5649\n",
      "Epoch 2/10\n",
      "1620/1620 [==============================] - 44s 27ms/step - loss: 1.4094 - accuracy: 0.5823 - val_loss: 1.1698 - val_accuracy: 0.6555\n",
      "Epoch 3/10\n",
      "1620/1620 [==============================] - 44s 27ms/step - loss: 1.0869 - accuracy: 0.6724 - val_loss: 1.0317 - val_accuracy: 0.6928\n",
      "Epoch 4/10\n",
      "1620/1620 [==============================] - 42s 26ms/step - loss: 0.9186 - accuracy: 0.7212 - val_loss: 0.8554 - val_accuracy: 0.7401\n",
      "Epoch 5/10\n",
      "1620/1620 [==============================] - 45s 28ms/step - loss: 0.7950 - accuracy: 0.7535 - val_loss: 0.7439 - val_accuracy: 0.7741\n",
      "Epoch 6/10\n",
      "1620/1620 [==============================] - 46s 28ms/step - loss: 0.7150 - accuracy: 0.7781 - val_loss: 0.7105 - val_accuracy: 0.7792\n",
      "Epoch 7/10\n",
      "1620/1620 [==============================] - 48s 30ms/step - loss: 0.6472 - accuracy: 0.7941 - val_loss: 0.6534 - val_accuracy: 0.7971\n",
      "Epoch 8/10\n",
      "1620/1620 [==============================] - 46s 28ms/step - loss: 0.5945 - accuracy: 0.8113 - val_loss: 0.6742 - val_accuracy: 0.7910\n",
      "Epoch 9/10\n",
      "1620/1620 [==============================] - 44s 27ms/step - loss: 0.5436 - accuracy: 0.8266 - val_loss: 0.5678 - val_accuracy: 0.8227\n",
      "Epoch 10/10\n",
      "1620/1620 [==============================] - 47s 29ms/step - loss: 0.5106 - accuracy: 0.8361 - val_loss: 0.5477 - val_accuracy: 0.8276\n",
      "251/251 [==============================] - 3s 11ms/step - loss: 0.3878 - accuracy: 0.8629\n"
     ]
    }
   ],
   "source": [
    "model2.compile(optimizer='adam',loss=tf.keras.losses.SparseCategoricalCrossentropy(from_logits=True),metrics=['accuracy'])\n",
    "\n",
    "# Fit And Evaluate The Model Using Validation Dataset\n",
    "model2.fit(x_train_2, y_train_2, epochs=10, validation_data=(x_val_2, y_val_2))\n",
    "model2.evaluate(x_test,y_test[:,1])\n",
    "y_pred2 = model2.predict(x_test)"
   ]
  },
  {
   "cell_type": "code",
   "execution_count": 20,
   "metadata": {},
   "outputs": [],
   "source": [
    "model3 = models.Sequential()\n",
    "# Feature Extraction Section (The Convolution and The Pooling Layer)\n",
    "model3.add(layers.Conv2D(filters=16, kernel_size=(3, 3), activation='relu', input_shape=(pixelsx, pixelsx, 1)))\n",
    "model3.add(layers.MaxPooling2D())\n",
    "model3.add(layers.Conv2D(filters=16, kernel_size=(3, 3), activation='relu'))\n",
    "model3.add(layers.MaxPooling2D())\n",
    "model3.add(layers.Conv2D(filters=16, kernel_size=(1, 1), activation='relu'))\n",
    "model3.add(layers.Conv2D(filters=16, kernel_size=(1, 1), activation='relu'))\n",
    "model3.add(layers.Conv2D(filters=16, kernel_size=(1, 1), activation='relu'))\n",
    "model3.add(layers.Conv2D(filters=16, kernel_size=(1, 1), activation='relu'))\n",
    "model3.add(layers.Conv2D(filters=16, kernel_size=(1, 1), activation='relu'))\n",
    "#model.add(layers.Conv2D(filters=16, kernel_size=(3, 3), activation='relu'))\n",
    "model3.add(layers.MaxPooling2D())\n",
    "#model.add(layers.Conv2D(filters=16, kernel_size=(3, 3), activation='relu'))\n",
    "# Reshape the image into one-dimensional vector\n",
    "model3.add(layers.Flatten())\n",
    "# Classification Section (The Fully Connected Layer)\n",
    "#model.add(layers.Dense(120, activation='relu'))\n",
    "#model.add(layers.Dense(84, activation='relu'))\n",
    "model3.add(layers.Dense(2048, activation='softmax'))\n",
    "# Show summary of the model\n",
    "#model.summary()"
   ]
  },
  {
   "cell_type": "code",
   "execution_count": 21,
   "metadata": {},
   "outputs": [
    {
     "name": "stdout",
     "output_type": "stream",
     "text": [
      "Epoch 1/10\n",
      "1620/1620 [==============================] - 47s 29ms/step - loss: 3.3465 - accuracy: 0.2715 - val_loss: 1.3517 - val_accuracy: 0.5964\n",
      "Epoch 2/10\n",
      "1620/1620 [==============================] - 44s 27ms/step - loss: 1.2097 - accuracy: 0.6430 - val_loss: 0.9291 - val_accuracy: 0.7183\n",
      "Epoch 3/10\n",
      "1620/1620 [==============================] - 48s 30ms/step - loss: 0.8976 - accuracy: 0.7227 - val_loss: 0.7979 - val_accuracy: 0.7559\n",
      "Epoch 4/10\n",
      "1620/1620 [==============================] - 44s 27ms/step - loss: 0.7524 - accuracy: 0.7639 - val_loss: 0.6966 - val_accuracy: 0.7823\n",
      "Epoch 5/10\n",
      "1620/1620 [==============================] - 44s 27ms/step - loss: 0.6535 - accuracy: 0.7894 - val_loss: 0.6278 - val_accuracy: 0.7990\n",
      "Epoch 6/10\n",
      "1620/1620 [==============================] - 44s 27ms/step - loss: 0.5886 - accuracy: 0.8093 - val_loss: 0.5485 - val_accuracy: 0.8247\n",
      "Epoch 7/10\n",
      "1620/1620 [==============================] - 44s 27ms/step - loss: 0.5369 - accuracy: 0.8244 - val_loss: 0.5363 - val_accuracy: 0.8275\n",
      "Epoch 8/10\n",
      "1620/1620 [==============================] - 44s 27ms/step - loss: 0.4977 - accuracy: 0.8363 - val_loss: 0.5325 - val_accuracy: 0.8270\n",
      "Epoch 9/10\n",
      "1620/1620 [==============================] - 41s 25ms/step - loss: 0.4679 - accuracy: 0.8448 - val_loss: 0.4886 - val_accuracy: 0.8415\n",
      "Epoch 10/10\n",
      "1620/1620 [==============================] - 41s 26ms/step - loss: 0.4293 - accuracy: 0.8585 - val_loss: 0.4487 - val_accuracy: 0.8543\n",
      "251/251 [==============================] - 2s 9ms/step - loss: 0.3437 - accuracy: 0.8796\n"
     ]
    }
   ],
   "source": [
    "model3.compile(optimizer='adam',loss=tf.keras.losses.SparseCategoricalCrossentropy(from_logits=True),metrics=['accuracy'])\n",
    "# Fit And Evaluate The Model Using Validation Dataset\n",
    "model3.fit(x_train_3, y_train_3, epochs=10, validation_data=(x_val_3, y_val_3))\n",
    "model3.evaluate(x_test,y_test[:,2])\n",
    "y_pred3 = model3.predict(x_test)"
   ]
  },
  {
   "cell_type": "code",
   "execution_count": 22,
   "metadata": {},
   "outputs": [
    {
     "name": "stdout",
     "output_type": "stream",
     "text": [
      "Model: \"sequential_3\"\n",
      "_________________________________________________________________\n",
      "Layer (type)                 Output Shape              Param #   \n",
      "=================================================================\n",
      "conv2d_21 (Conv2D)           (None, 35, 35, 16)        160       \n",
      "_________________________________________________________________\n",
      "max_pooling2d_9 (MaxPooling2 (None, 17, 17, 16)        0         \n",
      "_________________________________________________________________\n",
      "conv2d_22 (Conv2D)           (None, 15, 15, 16)        2320      \n",
      "_________________________________________________________________\n",
      "max_pooling2d_10 (MaxPooling (None, 7, 7, 16)          0         \n",
      "_________________________________________________________________\n",
      "conv2d_23 (Conv2D)           (None, 7, 7, 16)          272       \n",
      "_________________________________________________________________\n",
      "conv2d_24 (Conv2D)           (None, 7, 7, 16)          272       \n",
      "_________________________________________________________________\n",
      "conv2d_25 (Conv2D)           (None, 7, 7, 16)          272       \n",
      "_________________________________________________________________\n",
      "conv2d_26 (Conv2D)           (None, 7, 7, 16)          272       \n",
      "_________________________________________________________________\n",
      "conv2d_27 (Conv2D)           (None, 7, 7, 16)          272       \n",
      "_________________________________________________________________\n",
      "max_pooling2d_11 (MaxPooling (None, 3, 3, 16)          0         \n",
      "_________________________________________________________________\n",
      "flatten_3 (Flatten)          (None, 144)               0         \n",
      "_________________________________________________________________\n",
      "dense_3 (Dense)              (None, 2048)              296960    \n",
      "=================================================================\n",
      "Total params: 300,800\n",
      "Trainable params: 300,800\n",
      "Non-trainable params: 0\n",
      "_________________________________________________________________\n"
     ]
    }
   ],
   "source": [
    "model4 = models.Sequential()\n",
    "# Feature Extraction Section (The Convolution and The Pooling Layer)\n",
    "model4.add(layers.Conv2D(filters=16, kernel_size=(3, 3), activation='relu', input_shape=(pixelsx, pixelsx, 1)))\n",
    "model4.add(layers.MaxPooling2D())\n",
    "model4.add(layers.Conv2D(filters=16, kernel_size=(3, 3), activation='relu'))\n",
    "model4.add(layers.MaxPooling2D())\n",
    "model4.add(layers.Conv2D(filters=16, kernel_size=(1, 1), activation='relu'))\n",
    "model4.add(layers.Conv2D(filters=16, kernel_size=(1, 1), activation='relu'))\n",
    "model4.add(layers.Conv2D(filters=16, kernel_size=(1, 1), activation='relu'))\n",
    "model4.add(layers.Conv2D(filters=16, kernel_size=(1, 1), activation='relu'))\n",
    "model4.add(layers.Conv2D(filters=16, kernel_size=(1, 1), activation='relu'))\n",
    "#model.add(layers.Conv2D(filters=16, kernel_size=(3, 3), activation='relu'))\n",
    "model4.add(layers.MaxPooling2D())\n",
    "#model.add(layers.Conv2D(filters=16, kernel_size=(3, 3), activation='relu'))\n",
    "# Reshape the image into one-dimensional vector\n",
    "model4.add(layers.Flatten())\n",
    "# Classification Section (The Fully Connected Layer)\n",
    "#model.add(layers.Dense(120, activation='relu'))\n",
    "#model.add(layers.Dense(84, activation='relu'))\n",
    "model4.add(layers.Dense(2048, activation='softmax'))\n",
    "# Show summary of the model\n",
    "model4.summary()"
   ]
  },
  {
   "cell_type": "code",
   "execution_count": 23,
   "metadata": {},
   "outputs": [
    {
     "name": "stdout",
     "output_type": "stream",
     "text": [
      "Epoch 1/10\n",
      "1620/1620 [==============================] - 41s 25ms/step - loss: 3.1004 - accuracy: 0.3122 - val_loss: 1.2366 - val_accuracy: 0.6219\n",
      "Epoch 2/10\n",
      "1620/1620 [==============================] - 43s 26ms/step - loss: 1.1280 - accuracy: 0.6490 - val_loss: 0.9379 - val_accuracy: 0.7005\n",
      "Epoch 3/10\n",
      "1620/1620 [==============================] - 47s 29ms/step - loss: 0.8538 - accuracy: 0.7283 - val_loss: 0.7657 - val_accuracy: 0.7569\n",
      "Epoch 4/10\n",
      "1620/1620 [==============================] - 43s 27ms/step - loss: 0.7360 - accuracy: 0.7621 - val_loss: 0.7061 - val_accuracy: 0.7735\n",
      "Epoch 5/10\n",
      "1620/1620 [==============================] - 39s 24ms/step - loss: 0.6405 - accuracy: 0.7907 - val_loss: 0.6393 - val_accuracy: 0.7894\n",
      "Epoch 6/10\n",
      "1620/1620 [==============================] - 39s 24ms/step - loss: 0.5885 - accuracy: 0.8075 - val_loss: 0.5773 - val_accuracy: 0.8136\n",
      "Epoch 7/10\n",
      "1620/1620 [==============================] - 40s 24ms/step - loss: 0.5350 - accuracy: 0.8232 - val_loss: 0.5422 - val_accuracy: 0.8148\n",
      "Epoch 8/10\n",
      "1620/1620 [==============================] - 39s 24ms/step - loss: 0.5111 - accuracy: 0.8295 - val_loss: 0.5053 - val_accuracy: 0.8328\n",
      "Epoch 9/10\n",
      "1620/1620 [==============================] - 39s 24ms/step - loss: 0.4761 - accuracy: 0.8397 - val_loss: 0.4620 - val_accuracy: 0.8503\n",
      "Epoch 10/10\n",
      "1620/1620 [==============================] - 52s 32ms/step - loss: 0.4530 - accuracy: 0.8447 - val_loss: 0.4218 - val_accuracy: 0.8643\n",
      "251/251 [==============================] - 6s 20ms/step - loss: 0.3620 - accuracy: 0.8830\n"
     ]
    }
   ],
   "source": [
    "model4.compile(optimizer='adam',loss=tf.keras.losses.SparseCategoricalCrossentropy(from_logits=True),metrics=['accuracy'])\n",
    "# Fit And Evaluate The Model Using Validation Dataset\n",
    "model4.fit(x_train_4, y_train_4, epochs=10, validation_data=(x_val_4, y_val_4))\n",
    "model4.evaluate(x_test,y_test[:,3])\n",
    "y_pred4 = model4.predict(x_test)"
   ]
  },
  {
   "cell_type": "code",
   "execution_count": 24,
   "metadata": {},
   "outputs": [],
   "source": [
    "model5 = models.Sequential()\n",
    "# Feature Extraction Section (The Convolution and The Pooling Layer)\n",
    "model5.add(layers.Conv2D(filters=16, kernel_size=(3, 3), activation='relu', input_shape=(pixelsx, pixelsx, 1)))\n",
    "model5.add(layers.MaxPooling2D())\n",
    "model5.add(layers.Conv2D(filters=16, kernel_size=(3, 3), activation='relu'))\n",
    "model5.add(layers.MaxPooling2D())\n",
    "model5.add(layers.Conv2D(filters=16, kernel_size=(1, 1), activation='relu'))\n",
    "model5.add(layers.Conv2D(filters=16, kernel_size=(1, 1), activation='relu'))\n",
    "model5.add(layers.Conv2D(filters=16, kernel_size=(1, 1), activation='relu'))\n",
    "model5.add(layers.Conv2D(filters=16, kernel_size=(1, 1), activation='relu'))\n",
    "model5.add(layers.Conv2D(filters=16, kernel_size=(1, 1), activation='relu'))\n",
    "#model.add(layers.Conv2D(filters=16, kernel_size=(3, 3), activation='relu'))\n",
    "model5.add(layers.MaxPooling2D())\n",
    "#model.add(layers.Conv2D(filters=16, kernel_size=(3, 3), activation='relu'))\n",
    "# Reshape the image into one-dimensional vector\n",
    "model5.add(layers.Flatten())\n",
    "# Classification Section (The Fully Connected Layer)\n",
    "#model.add(layers.Dense(120, activation='relu'))\n",
    "#model.add(layers.Dense(84, activation='relu'))\n",
    "model5.add(layers.Dense(2048, activation='softmax'))\n",
    "# Show summary of the model\n",
    "#model.summary()"
   ]
  },
  {
   "cell_type": "code",
   "execution_count": 25,
   "metadata": {},
   "outputs": [
    {
     "name": "stdout",
     "output_type": "stream",
     "text": [
      "Epoch 1/10\n",
      "1620/1620 [==============================] - 41s 24ms/step - loss: 2.7648 - accuracy: 0.3596 - val_loss: 1.1265 - val_accuracy: 0.6343\n",
      "Epoch 2/10\n",
      "1620/1620 [==============================] - 38s 24ms/step - loss: 1.0166 - accuracy: 0.6731 - val_loss: 0.8210 - val_accuracy: 0.7329\n",
      "Epoch 3/10\n",
      "1620/1620 [==============================] - 38s 24ms/step - loss: 0.7733 - accuracy: 0.7423 - val_loss: 0.7119 - val_accuracy: 0.7580\n",
      "Epoch 4/10\n",
      "1620/1620 [==============================] - 40s 25ms/step - loss: 0.6645 - accuracy: 0.7741 - val_loss: 0.6202 - val_accuracy: 0.7918\n",
      "Epoch 5/10\n",
      "1620/1620 [==============================] - 48s 29ms/step - loss: 0.6049 - accuracy: 0.7909 - val_loss: 0.6125 - val_accuracy: 0.7947\n",
      "Epoch 6/10\n",
      "1620/1620 [==============================] - 43s 26ms/step - loss: 0.5650 - accuracy: 0.8008 - val_loss: 0.5905 - val_accuracy: 0.7935\n",
      "Epoch 7/10\n",
      "1620/1620 [==============================] - 40s 25ms/step - loss: 0.5269 - accuracy: 0.8159 - val_loss: 0.5157 - val_accuracy: 0.8209\n",
      "Epoch 8/10\n",
      "1620/1620 [==============================] - 42s 26ms/step - loss: 0.5075 - accuracy: 0.8225 - val_loss: 0.5293 - val_accuracy: 0.8182\n",
      "Epoch 9/10\n",
      "1620/1620 [==============================] - 43s 27ms/step - loss: 0.4760 - accuracy: 0.8329 - val_loss: 0.4870 - val_accuracy: 0.8325\n",
      "Epoch 10/10\n",
      "1620/1620 [==============================] - 47s 29ms/step - loss: 0.4509 - accuracy: 0.8393 - val_loss: 0.4556 - val_accuracy: 0.8400\n",
      "251/251 [==============================] - 3s 11ms/step - loss: 0.3782 - accuracy: 0.8681\n"
     ]
    }
   ],
   "source": [
    "model5.compile(optimizer='adam',loss=tf.keras.losses.SparseCategoricalCrossentropy(from_logits=True),metrics=['accuracy'])\n",
    "# Fit And Evaluate The Model Using Validation Dataset\n",
    "model5.fit(x_train_5, y_train_5, epochs=10, validation_data=(x_val_5, y_val_5))\n",
    "model5.evaluate(x_test,y_test[:,4])\n",
    "y_pred5 = model5.predict(x_test)"
   ]
  },
  {
   "cell_type": "code",
   "execution_count": 26,
   "metadata": {},
   "outputs": [
    {
     "name": "stdout",
     "output_type": "stream",
     "text": [
      "Model: \"sequential_5\"\n",
      "_________________________________________________________________\n",
      "Layer (type)                 Output Shape              Param #   \n",
      "=================================================================\n",
      "conv2d_35 (Conv2D)           (None, 35, 35, 16)        160       \n",
      "_________________________________________________________________\n",
      "max_pooling2d_15 (MaxPooling (None, 17, 17, 16)        0         \n",
      "_________________________________________________________________\n",
      "conv2d_36 (Conv2D)           (None, 15, 15, 16)        2320      \n",
      "_________________________________________________________________\n",
      "max_pooling2d_16 (MaxPooling (None, 7, 7, 16)          0         \n",
      "_________________________________________________________________\n",
      "conv2d_37 (Conv2D)           (None, 7, 7, 16)          272       \n",
      "_________________________________________________________________\n",
      "conv2d_38 (Conv2D)           (None, 7, 7, 16)          272       \n",
      "_________________________________________________________________\n",
      "conv2d_39 (Conv2D)           (None, 7, 7, 16)          272       \n",
      "_________________________________________________________________\n",
      "conv2d_40 (Conv2D)           (None, 7, 7, 16)          272       \n",
      "_________________________________________________________________\n",
      "conv2d_41 (Conv2D)           (None, 7, 7, 16)          272       \n",
      "_________________________________________________________________\n",
      "max_pooling2d_17 (MaxPooling (None, 3, 3, 16)          0         \n",
      "_________________________________________________________________\n",
      "flatten_5 (Flatten)          (None, 144)               0         \n",
      "_________________________________________________________________\n",
      "dense_5 (Dense)              (None, 2048)              296960    \n",
      "=================================================================\n",
      "Total params: 300,800\n",
      "Trainable params: 300,800\n",
      "Non-trainable params: 0\n",
      "_________________________________________________________________\n"
     ]
    }
   ],
   "source": [
    "model6 = models.Sequential()\n",
    "# Feature Extraction Section (The Convolution and The Pooling Layer)\n",
    "model6.add(layers.Conv2D(filters=16, kernel_size=(3, 3), activation='relu', input_shape=(pixelsx, pixelsx, 1)))\n",
    "model6.add(layers.MaxPooling2D())\n",
    "model6.add(layers.Conv2D(filters=16, kernel_size=(3, 3), activation='relu'))\n",
    "model6.add(layers.MaxPooling2D())\n",
    "model6.add(layers.Conv2D(filters=16, kernel_size=(1, 1), activation='relu'))\n",
    "model6.add(layers.Conv2D(filters=16, kernel_size=(1, 1), activation='relu'))\n",
    "model6.add(layers.Conv2D(filters=16, kernel_size=(1, 1), activation='relu'))\n",
    "model6.add(layers.Conv2D(filters=16, kernel_size=(1, 1), activation='relu'))\n",
    "model6.add(layers.Conv2D(filters=16, kernel_size=(1, 1), activation='relu'))\n",
    "#model.add(layers.Conv2D(filters=16, kernel_size=(3, 3), activation='relu'))\n",
    "model6.add(layers.MaxPooling2D())\n",
    "#model.add(layers.Conv2D(filters=16, kernel_size=(3, 3), activation='relu'))\n",
    "# Reshape the image into one-dimensional vector\n",
    "model6.add(layers.Flatten())\n",
    "# Classification Section (The Fully Connected Layer)\n",
    "#model.add(layers.Dense(120, activation='relu'))\n",
    "#model.add(layers.Dense(84, activation='relu'))\n",
    "model6.add(layers.Dense(2048, activation='softmax'))\n",
    "# Show summary of the model\n",
    "model6.summary()"
   ]
  },
  {
   "cell_type": "code",
   "execution_count": 27,
   "metadata": {},
   "outputs": [
    {
     "name": "stdout",
     "output_type": "stream",
     "text": [
      "Epoch 1/10\n",
      "1620/1620 [==============================] - 47s 28ms/step - loss: 2.1614 - accuracy: 0.4558 - val_loss: 0.8295 - val_accuracy: 0.7025\n",
      "Epoch 2/10\n",
      "1620/1620 [==============================] - 42s 26ms/step - loss: 0.7677 - accuracy: 0.7176 - val_loss: 0.6102 - val_accuracy: 0.7736\n",
      "Epoch 3/10\n",
      "1620/1620 [==============================] - 44s 27ms/step - loss: 0.5990 - accuracy: 0.7765 - val_loss: 0.5165 - val_accuracy: 0.8046\n",
      "Epoch 4/10\n",
      "1620/1620 [==============================] - 42s 26ms/step - loss: 0.5134 - accuracy: 0.8088 - val_loss: 0.4758 - val_accuracy: 0.8216\n",
      "Epoch 5/10\n",
      "1620/1620 [==============================] - 45s 28ms/step - loss: 0.4703 - accuracy: 0.8224 - val_loss: 0.4663 - val_accuracy: 0.8225\n",
      "Epoch 6/10\n",
      "1620/1620 [==============================] - 42s 26ms/step - loss: 0.4235 - accuracy: 0.8395 - val_loss: 0.3764 - val_accuracy: 0.8610\n",
      "Epoch 7/10\n",
      "1620/1620 [==============================] - 45s 28ms/step - loss: 0.4121 - accuracy: 0.8446 - val_loss: 0.3884 - val_accuracy: 0.8485\n",
      "Epoch 8/10\n",
      "1620/1620 [==============================] - 45s 28ms/step - loss: 0.3769 - accuracy: 0.8583 - val_loss: 0.3202 - val_accuracy: 0.8859\n",
      "Epoch 9/10\n",
      "1620/1620 [==============================] - 49s 30ms/step - loss: 0.3621 - accuracy: 0.8644 - val_loss: 0.3835 - val_accuracy: 0.8596\n",
      "Epoch 10/10\n",
      "1620/1620 [==============================] - 47s 29ms/step - loss: 0.3418 - accuracy: 0.8728 - val_loss: 0.3594 - val_accuracy: 0.8626\n",
      "251/251 [==============================] - 2s 9ms/step - loss: 0.3255 - accuracy: 0.8763\n"
     ]
    }
   ],
   "source": [
    "model6.compile(optimizer='adam',loss=tf.keras.losses.SparseCategoricalCrossentropy(from_logits=True),metrics=['accuracy'])\n",
    "# Fit And Evaluate The Model Using Validation Dataset\n",
    "model6.fit(x_train_6, y_train_6, epochs=10, validation_data=(x_val_6, y_val_6))\n",
    "model6.evaluate(x_test,y_test[:,5])\n",
    "y_pred6 = model6.predict(x_test)"
   ]
  },
  {
   "cell_type": "code",
   "execution_count": 28,
   "metadata": {},
   "outputs": [],
   "source": [
    "model7 = models.Sequential()\n",
    "# Feature Extraction Section (The Convolution and The Pooling Layer)\n",
    "model7.add(layers.Conv2D(filters=16, kernel_size=(3, 3), activation='relu', input_shape=(pixelsx, pixelsx, 1)))\n",
    "model7.add(layers.MaxPooling2D())\n",
    "model7.add(layers.Conv2D(filters=16, kernel_size=(3, 3), activation='relu'))\n",
    "model7.add(layers.MaxPooling2D())\n",
    "model7.add(layers.Conv2D(filters=16, kernel_size=(1, 1), activation='relu'))\n",
    "model7.add(layers.Conv2D(filters=16, kernel_size=(1, 1), activation='relu'))\n",
    "model7.add(layers.Conv2D(filters=16, kernel_size=(1, 1), activation='relu'))\n",
    "model7.add(layers.Conv2D(filters=16, kernel_size=(1, 1), activation='relu'))\n",
    "model7.add(layers.Conv2D(filters=16, kernel_size=(1, 1), activation='relu'))\n",
    "#model.add(layers.Conv2D(filters=16, kernel_size=(3, 3), activation='relu'))\n",
    "model7.add(layers.MaxPooling2D())\n",
    "#model.add(layers.Conv2D(filters=16, kernel_size=(3, 3), activation='relu'))\n",
    "# Reshape the image into one-dimensional vector\n",
    "model7.add(layers.Flatten())\n",
    "# Classification Section (The Fully Connected Layer)\n",
    "#model.add(layers.Dense(120, activation='relu'))\n",
    "#model.add(layers.Dense(84, activation='relu'))\n",
    "model7.add(layers.Dense(2048, activation='softmax'))\n",
    "# Show summary of the model\n",
    "#model.summary()"
   ]
  },
  {
   "cell_type": "code",
   "execution_count": 29,
   "metadata": {},
   "outputs": [
    {
     "name": "stdout",
     "output_type": "stream",
     "text": [
      "Epoch 1/10\n",
      "1620/1620 [==============================] - 42s 26ms/step - loss: 2.9186 - accuracy: 0.3455 - val_loss: 0.9591 - val_accuracy: 0.6880\n",
      "Epoch 2/10\n",
      "1620/1620 [==============================] - 40s 25ms/step - loss: 0.8390 - accuracy: 0.7236 - val_loss: 0.6888 - val_accuracy: 0.7658\n",
      "Epoch 3/10\n",
      "1620/1620 [==============================] - 41s 25ms/step - loss: 0.6067 - accuracy: 0.7900 - val_loss: 0.5415 - val_accuracy: 0.8186\n",
      "Epoch 4/10\n",
      "1620/1620 [==============================] - 42s 26ms/step - loss: 0.5185 - accuracy: 0.8193 - val_loss: 0.5174 - val_accuracy: 0.8215\n",
      "Epoch 5/10\n",
      "1620/1620 [==============================] - 41s 25ms/step - loss: 0.4516 - accuracy: 0.8415 - val_loss: 0.4377 - val_accuracy: 0.8473\n",
      "Epoch 6/10\n",
      "1620/1620 [==============================] - 43s 27ms/step - loss: 0.4220 - accuracy: 0.8508 - val_loss: 0.4246 - val_accuracy: 0.8523\n",
      "Epoch 7/10\n",
      "1620/1620 [==============================] - 41s 25ms/step - loss: 0.3861 - accuracy: 0.8653 - val_loss: 0.3854 - val_accuracy: 0.8653\n",
      "Epoch 8/10\n",
      "1620/1620 [==============================] - 48s 30ms/step - loss: 0.3568 - accuracy: 0.8740 - val_loss: 0.3586 - val_accuracy: 0.8791\n",
      "Epoch 9/10\n",
      "1620/1620 [==============================] - 44s 27ms/step - loss: 0.3354 - accuracy: 0.8813 - val_loss: 0.3411 - val_accuracy: 0.8832\n",
      "Epoch 10/10\n",
      "1620/1620 [==============================] - 46s 29ms/step - loss: 0.3173 - accuracy: 0.8866 - val_loss: 0.3500 - val_accuracy: 0.8837\n",
      "251/251 [==============================] - 3s 10ms/step - loss: 0.2776 - accuracy: 0.9031\n"
     ]
    }
   ],
   "source": [
    "model7.compile(optimizer='adam',loss=tf.keras.losses.SparseCategoricalCrossentropy(from_logits=True),metrics=['accuracy'])\n",
    "# Fit And Evaluate The Model Using Validation Dataset\n",
    "model7.fit(x_train_7, y_train_7, epochs=10, validation_data=(x_val_7, y_val_7))\n",
    "model7.evaluate(x_test,y_test[:,6])\n",
    "y_pred7 = model7.predict(x_test)"
   ]
  },
  {
   "cell_type": "code",
   "execution_count": 30,
   "metadata": {},
   "outputs": [
    {
     "name": "stdout",
     "output_type": "stream",
     "text": [
      "Model: \"sequential_7\"\n",
      "_________________________________________________________________\n",
      "Layer (type)                 Output Shape              Param #   \n",
      "=================================================================\n",
      "conv2d_49 (Conv2D)           (None, 35, 35, 16)        160       \n",
      "_________________________________________________________________\n",
      "max_pooling2d_21 (MaxPooling (None, 17, 17, 16)        0         \n",
      "_________________________________________________________________\n",
      "conv2d_50 (Conv2D)           (None, 15, 15, 16)        2320      \n",
      "_________________________________________________________________\n",
      "max_pooling2d_22 (MaxPooling (None, 7, 7, 16)          0         \n",
      "_________________________________________________________________\n",
      "conv2d_51 (Conv2D)           (None, 7, 7, 16)          272       \n",
      "_________________________________________________________________\n",
      "conv2d_52 (Conv2D)           (None, 7, 7, 16)          272       \n",
      "_________________________________________________________________\n",
      "conv2d_53 (Conv2D)           (None, 7, 7, 16)          272       \n",
      "_________________________________________________________________\n",
      "conv2d_54 (Conv2D)           (None, 7, 7, 16)          272       \n",
      "_________________________________________________________________\n",
      "conv2d_55 (Conv2D)           (None, 7, 7, 16)          272       \n",
      "_________________________________________________________________\n",
      "max_pooling2d_23 (MaxPooling (None, 3, 3, 16)          0         \n",
      "_________________________________________________________________\n",
      "flatten_7 (Flatten)          (None, 144)               0         \n",
      "_________________________________________________________________\n",
      "dense_7 (Dense)              (None, 2048)              296960    \n",
      "=================================================================\n",
      "Total params: 300,800\n",
      "Trainable params: 300,800\n",
      "Non-trainable params: 0\n",
      "_________________________________________________________________\n"
     ]
    }
   ],
   "source": [
    "model8 = models.Sequential()\n",
    "# Feature Extraction Section (The Convolution and The Pooling Layer)\n",
    "model8.add(layers.Conv2D(filters=16, kernel_size=(3, 3), activation='relu', input_shape=(pixelsx, pixelsx, 1)))\n",
    "model8.add(layers.MaxPooling2D())\n",
    "model8.add(layers.Conv2D(filters=16, kernel_size=(3, 3), activation='relu'))\n",
    "model8.add(layers.MaxPooling2D())\n",
    "model8.add(layers.Conv2D(filters=16, kernel_size=(1, 1), activation='relu'))\n",
    "model8.add(layers.Conv2D(filters=16, kernel_size=(1, 1), activation='relu'))\n",
    "model8.add(layers.Conv2D(filters=16, kernel_size=(1, 1), activation='relu'))\n",
    "model8.add(layers.Conv2D(filters=16, kernel_size=(1, 1), activation='relu'))\n",
    "model8.add(layers.Conv2D(filters=16, kernel_size=(1, 1), activation='relu'))\n",
    "#model.add(layers.Conv2D(filters=16, kernel_size=(3, 3), activation='relu'))\n",
    "model8.add(layers.MaxPooling2D())\n",
    "#model.add(layers.Conv2D(filters=16, kernel_size=(3, 3), activation='relu'))\n",
    "# Reshape the image into one-dimensional vector\n",
    "model8.add(layers.Flatten())\n",
    "# Classification Section (The Fully Connected Layer)\n",
    "#model.add(layers.Dense(120, activation='relu'))\n",
    "#model.add(layers.Dense(84, activation='relu'))\n",
    "model8.add(layers.Dense(2048, activation='softmax'))\n",
    "# Show summary of the model\n",
    "model8.summary()"
   ]
  },
  {
   "cell_type": "code",
   "execution_count": 31,
   "metadata": {},
   "outputs": [
    {
     "name": "stdout",
     "output_type": "stream",
     "text": [
      "Epoch 1/10\n",
      "1620/1620 [==============================] - 44s 27ms/step - loss: 3.1333 - accuracy: 0.3171 - val_loss: 1.2520 - val_accuracy: 0.6265\n",
      "Epoch 2/10\n",
      "1620/1620 [==============================] - 44s 27ms/step - loss: 1.1439 - accuracy: 0.6481 - val_loss: 0.9896 - val_accuracy: 0.6917\n",
      "Epoch 3/10\n",
      "1620/1620 [==============================] - 43s 27ms/step - loss: 0.9194 - accuracy: 0.7047 - val_loss: 0.8615 - val_accuracy: 0.7262\n",
      "Epoch 4/10\n",
      "1620/1620 [==============================] - 41s 26ms/step - loss: 0.7846 - accuracy: 0.7446 - val_loss: 0.7600 - val_accuracy: 0.7480\n",
      "Epoch 5/10\n",
      "1620/1620 [==============================] - 44s 27ms/step - loss: 0.7004 - accuracy: 0.7683 - val_loss: 0.6737 - val_accuracy: 0.7838\n",
      "Epoch 6/10\n",
      "1620/1620 [==============================] - 42s 26ms/step - loss: 0.6361 - accuracy: 0.7877 - val_loss: 0.6045 - val_accuracy: 0.7998\n",
      "Epoch 7/10\n",
      "1620/1620 [==============================] - 43s 27ms/step - loss: 0.5795 - accuracy: 0.8070 - val_loss: 0.6238 - val_accuracy: 0.7898\n",
      "Epoch 8/10\n",
      "1620/1620 [==============================] - 43s 27ms/step - loss: 0.5453 - accuracy: 0.8170 - val_loss: 0.5316 - val_accuracy: 0.8262\n",
      "Epoch 9/10\n",
      "1620/1620 [==============================] - 43s 27ms/step - loss: 0.5050 - accuracy: 0.8300 - val_loss: 0.5180 - val_accuracy: 0.8283\n",
      "Epoch 10/10\n",
      "1620/1620 [==============================] - 42s 26ms/step - loss: 0.4860 - accuracy: 0.8388 - val_loss: 0.4722 - val_accuracy: 0.8438\n",
      "251/251 [==============================] - 3s 10ms/step - loss: 0.3986 - accuracy: 0.8646\n"
     ]
    }
   ],
   "source": [
    "model8.compile(optimizer='adam',loss=tf.keras.losses.SparseCategoricalCrossentropy(from_logits=True),metrics=['accuracy'])\n",
    "# Fit And Evaluate The Model Using Validation Dataset\n",
    "model8.fit(x_train_8, y_train_8, epochs=10, validation_data=(x_val_8, y_val_8))\n",
    "model8.evaluate(x_test,y_test[:,7])\n",
    "y_pred8 = model8.predict(x_test)"
   ]
  },
  {
   "cell_type": "code",
   "execution_count": 32,
   "metadata": {},
   "outputs": [],
   "source": [
    "model9 = models.Sequential()\n",
    "# Feature Extraction Section (The Convolution and The Pooling Layer)\n",
    "model9.add(layers.Conv2D(filters=16, kernel_size=(3, 3), activation='relu', input_shape=(pixelsx, pixelsx, 1)))\n",
    "model9.add(layers.MaxPooling2D())\n",
    "model9.add(layers.Conv2D(filters=16, kernel_size=(3, 3), activation='relu'))\n",
    "model9.add(layers.MaxPooling2D())\n",
    "model9.add(layers.Conv2D(filters=16, kernel_size=(1, 1), activation='relu'))\n",
    "model9.add(layers.Conv2D(filters=16, kernel_size=(1, 1), activation='relu'))\n",
    "model9.add(layers.Conv2D(filters=16, kernel_size=(1, 1), activation='relu'))\n",
    "model9.add(layers.Conv2D(filters=16, kernel_size=(1, 1), activation='relu'))\n",
    "model9.add(layers.Conv2D(filters=16, kernel_size=(1, 1), activation='relu'))\n",
    "#model.add(layers.Conv2D(filters=16, kernel_size=(3, 3), activation='relu'))\n",
    "model9.add(layers.MaxPooling2D())\n",
    "#model.add(layers.Conv2D(filters=16, kernel_size=(3, 3), activation='relu'))\n",
    "# Reshape the image into one-dimensional vector\n",
    "model9.add(layers.Flatten())\n",
    "# Classification Section (The Fully Connected Layer)\n",
    "#model.add(layers.Dense(120, activation='relu'))\n",
    "#model.add(layers.Dense(84, activation='relu'))\n",
    "model9.add(layers.Dense(2048, activation='softmax'))\n",
    "# Show summary of the model\n",
    "#model.summary()"
   ]
  },
  {
   "cell_type": "code",
   "execution_count": 33,
   "metadata": {},
   "outputs": [
    {
     "name": "stdout",
     "output_type": "stream",
     "text": [
      "Epoch 1/10\n",
      "1620/1620 [==============================] - 43s 26ms/step - loss: 3.3783 - accuracy: 0.2673 - val_loss: 1.1325 - val_accuracy: 0.6609\n",
      "Epoch 2/10\n",
      "1620/1620 [==============================] - 40s 25ms/step - loss: 0.9944 - accuracy: 0.6934 - val_loss: 0.7670 - val_accuracy: 0.7518\n",
      "Epoch 3/10\n",
      "1620/1620 [==============================] - 40s 25ms/step - loss: 0.7420 - accuracy: 0.7565 - val_loss: 0.6442 - val_accuracy: 0.7948\n",
      "Epoch 4/10\n",
      "1620/1620 [==============================] - 41s 26ms/step - loss: 0.6078 - accuracy: 0.7998 - val_loss: 0.5512 - val_accuracy: 0.8233\n",
      "Epoch 5/10\n",
      "1620/1620 [==============================] - 41s 25ms/step - loss: 0.5358 - accuracy: 0.8230 - val_loss: 0.4900 - val_accuracy: 0.8464\n",
      "Epoch 6/10\n",
      "1620/1620 [==============================] - 40s 25ms/step - loss: 0.4737 - accuracy: 0.8403 - val_loss: 0.4619 - val_accuracy: 0.8513\n",
      "Epoch 7/10\n",
      "1620/1620 [==============================] - 42s 26ms/step - loss: 0.4505 - accuracy: 0.8509 - val_loss: 0.4237 - val_accuracy: 0.8639\n",
      "Epoch 8/10\n",
      "1620/1620 [==============================] - 41s 25ms/step - loss: 0.4038 - accuracy: 0.8665 - val_loss: 0.4697 - val_accuracy: 0.8508\n",
      "Epoch 9/10\n",
      "1620/1620 [==============================] - 42s 26ms/step - loss: 0.3797 - accuracy: 0.8736 - val_loss: 0.3819 - val_accuracy: 0.8782\n",
      "Epoch 10/10\n",
      "1620/1620 [==============================] - 42s 26ms/step - loss: 0.3492 - accuracy: 0.8827 - val_loss: 0.3601 - val_accuracy: 0.8819\n",
      "251/251 [==============================] - 3s 10ms/step - loss: 0.2925 - accuracy: 0.9014\n"
     ]
    }
   ],
   "source": [
    "model9.compile(optimizer='adam',loss=tf.keras.losses.SparseCategoricalCrossentropy(from_logits=True),metrics=['accuracy'])\n",
    "# Fit And Evaluate The Model Using Validation Dataset\n",
    "model9.fit(x_train_9, y_train_9, epochs=10, validation_data=(x_val_9, y_val_9))\n",
    "model9.evaluate(x_test,y_test[:,8])\n",
    "y_pred9 = model9.predict(x_test)"
   ]
  },
  {
   "cell_type": "code",
   "execution_count": 34,
   "metadata": {},
   "outputs": [
    {
     "name": "stdout",
     "output_type": "stream",
     "text": [
      "Model: \"sequential_9\"\n",
      "_________________________________________________________________\n",
      "Layer (type)                 Output Shape              Param #   \n",
      "=================================================================\n",
      "conv2d_63 (Conv2D)           (None, 35, 35, 16)        160       \n",
      "_________________________________________________________________\n",
      "max_pooling2d_27 (MaxPooling (None, 17, 17, 16)        0         \n",
      "_________________________________________________________________\n",
      "conv2d_64 (Conv2D)           (None, 15, 15, 16)        2320      \n",
      "_________________________________________________________________\n",
      "max_pooling2d_28 (MaxPooling (None, 7, 7, 16)          0         \n",
      "_________________________________________________________________\n",
      "conv2d_65 (Conv2D)           (None, 7, 7, 16)          272       \n",
      "_________________________________________________________________\n",
      "conv2d_66 (Conv2D)           (None, 7, 7, 16)          272       \n",
      "_________________________________________________________________\n",
      "conv2d_67 (Conv2D)           (None, 7, 7, 16)          272       \n",
      "_________________________________________________________________\n",
      "conv2d_68 (Conv2D)           (None, 7, 7, 16)          272       \n",
      "_________________________________________________________________\n",
      "conv2d_69 (Conv2D)           (None, 7, 7, 16)          272       \n",
      "_________________________________________________________________\n",
      "max_pooling2d_29 (MaxPooling (None, 3, 3, 16)          0         \n",
      "_________________________________________________________________\n",
      "flatten_9 (Flatten)          (None, 144)               0         \n",
      "_________________________________________________________________\n",
      "dense_9 (Dense)              (None, 2048)              296960    \n",
      "=================================================================\n",
      "Total params: 300,800\n",
      "Trainable params: 300,800\n",
      "Non-trainable params: 0\n",
      "_________________________________________________________________\n"
     ]
    }
   ],
   "source": [
    "model10 = models.Sequential()\n",
    "# Feature Extraction Section (The Convolution and The Pooling Layer)\n",
    "model10.add(layers.Conv2D(filters=16, kernel_size=(3, 3), activation='relu', input_shape=(pixelsx, pixelsx, 1)))\n",
    "model10.add(layers.MaxPooling2D())\n",
    "model10.add(layers.Conv2D(filters=16, kernel_size=(3, 3), activation='relu'))\n",
    "model10.add(layers.MaxPooling2D())\n",
    "model10.add(layers.Conv2D(filters=16, kernel_size=(1, 1), activation='relu'))\n",
    "model10.add(layers.Conv2D(filters=16, kernel_size=(1, 1), activation='relu'))\n",
    "model10.add(layers.Conv2D(filters=16, kernel_size=(1, 1), activation='relu'))\n",
    "model10.add(layers.Conv2D(filters=16, kernel_size=(1, 1), activation='relu'))\n",
    "model10.add(layers.Conv2D(filters=16, kernel_size=(1, 1), activation='relu'))\n",
    "#model.add(layers.Conv2D(filters=16, kernel_size=(3, 3), activation='relu'))\n",
    "model10.add(layers.MaxPooling2D())\n",
    "#model.add(layers.Conv2D(filters=16, kernel_size=(3, 3), activation='relu'))\n",
    "# Reshape the image into one-dimensional vector\n",
    "model10.add(layers.Flatten())\n",
    "# Classification Section (The Fully Connected Layer)\n",
    "#model.add(layers.Dense(120, activation='relu'))\n",
    "#model.add(layers.Dense(84, activation='relu'))\n",
    "model10.add(layers.Dense(2048, activation='softmax'))\n",
    "# Show summary of the model\n",
    "model10.summary()"
   ]
  },
  {
   "cell_type": "code",
   "execution_count": 35,
   "metadata": {},
   "outputs": [
    {
     "name": "stdout",
     "output_type": "stream",
     "text": [
      "Epoch 1/10\n",
      "1620/1620 [==============================] - 42s 26ms/step - loss: 3.6924 - accuracy: 0.2050 - val_loss: 1.9658 - val_accuracy: 0.4457\n",
      "Epoch 2/10\n",
      "1620/1620 [==============================] - 41s 25ms/step - loss: 1.7728 - accuracy: 0.4913 - val_loss: 1.4049 - val_accuracy: 0.5910\n",
      "Epoch 3/10\n",
      "1620/1620 [==============================] - 42s 26ms/step - loss: 1.2990 - accuracy: 0.6092 - val_loss: 1.1256 - val_accuracy: 0.6581\n",
      "Epoch 4/10\n",
      "1620/1620 [==============================] - 40s 24ms/step - loss: 1.0545 - accuracy: 0.6782 - val_loss: 0.9477 - val_accuracy: 0.7046\n",
      "Epoch 5/10\n",
      "1620/1620 [==============================] - 40s 25ms/step - loss: 0.9056 - accuracy: 0.7192 - val_loss: 0.8322 - val_accuracy: 0.7408\n",
      "Epoch 6/10\n",
      "1620/1620 [==============================] - 41s 25ms/step - loss: 0.8284 - accuracy: 0.7381 - val_loss: 0.7624 - val_accuracy: 0.7572\n",
      "Epoch 7/10\n",
      "1620/1620 [==============================] - 43s 26ms/step - loss: 0.7559 - accuracy: 0.7610 - val_loss: 0.7445 - val_accuracy: 0.7599\n",
      "Epoch 8/10\n",
      "1620/1620 [==============================] - 42s 26ms/step - loss: 0.6911 - accuracy: 0.7809 - val_loss: 0.6530 - val_accuracy: 0.7906\n",
      "Epoch 9/10\n",
      "1620/1620 [==============================] - 43s 26ms/step - loss: 0.6299 - accuracy: 0.7954 - val_loss: 0.6191 - val_accuracy: 0.8039\n",
      "Epoch 10/10\n",
      "1620/1620 [==============================] - 44s 27ms/step - loss: 0.6045 - accuracy: 0.8037 - val_loss: 0.6013 - val_accuracy: 0.8061\n",
      "251/251 [==============================] - 2s 9ms/step - loss: 0.4836 - accuracy: 0.8340\n"
     ]
    }
   ],
   "source": [
    "model10.compile(optimizer='adam',loss=tf.keras.losses.SparseCategoricalCrossentropy(from_logits=True),metrics=['accuracy'])\n",
    "# Fit And Evaluate The Model Using Validation Dataset\n",
    "model10.fit(x_train_10, y_train_10, epochs=10, validation_data=(x_val_10, y_val_10))\n",
    "model10.evaluate(x_test,y_test[:,9])\n",
    "y_pred10 = model10.predict(x_test)"
   ]
  },
  {
   "cell_type": "code",
   "execution_count": 36,
   "metadata": {},
   "outputs": [],
   "source": [
    "model11 = models.Sequential()\n",
    "# Feature Extraction Section (The Convolution and The Pooling Layer)\n",
    "model11.add(layers.Conv2D(filters=16, kernel_size=(3, 3), activation='relu', input_shape=(pixelsx, pixelsx, 1)))\n",
    "model11.add(layers.MaxPooling2D())\n",
    "model11.add(layers.Conv2D(filters=16, kernel_size=(3, 3), activation='relu'))\n",
    "model11.add(layers.MaxPooling2D())\n",
    "model11.add(layers.Conv2D(filters=16, kernel_size=(1, 1), activation='relu'))\n",
    "model11.add(layers.Conv2D(filters=16, kernel_size=(1, 1), activation='relu'))\n",
    "model11.add(layers.Conv2D(filters=16, kernel_size=(1, 1), activation='relu'))\n",
    "model11.add(layers.Conv2D(filters=16, kernel_size=(1, 1), activation='relu'))\n",
    "model11.add(layers.Conv2D(filters=16, kernel_size=(1, 1), activation='relu'))\n",
    "#model.add(layers.Conv2D(filters=16, kernel_size=(3, 3), activation='relu'))\n",
    "model11.add(layers.MaxPooling2D())\n",
    "#model.add(layers.Conv2D(filters=16, kernel_size=(3, 3), activation='relu'))\n",
    "# Reshape the image into one-dimensional vector\n",
    "model11.add(layers.Flatten())\n",
    "# Classification Section (The Fully Connected Layer)\n",
    "#model.add(layers.Dense(120, activation='relu'))\n",
    "#model.add(layers.Dense(84, activation='relu'))\n",
    "model11.add(layers.Dense(2048, activation='softmax'))\n",
    "# Show summary of the model\n",
    "#model.summary()"
   ]
  },
  {
   "cell_type": "code",
   "execution_count": 37,
   "metadata": {},
   "outputs": [
    {
     "name": "stdout",
     "output_type": "stream",
     "text": [
      "Epoch 1/10\n",
      "1620/1620 [==============================] - 43s 26ms/step - loss: 3.8551 - accuracy: 0.2093 - val_loss: 2.2251 - val_accuracy: 0.4053\n",
      "Epoch 2/10\n",
      "1620/1620 [==============================] - 40s 25ms/step - loss: 1.9825 - accuracy: 0.4578 - val_loss: 1.4877 - val_accuracy: 0.5766\n",
      "Epoch 3/10\n",
      "1620/1620 [==============================] - 40s 25ms/step - loss: 1.3603 - accuracy: 0.6055 - val_loss: 1.1272 - val_accuracy: 0.6791\n",
      "Epoch 4/10\n",
      "1620/1620 [==============================] - 40s 25ms/step - loss: 1.0427 - accuracy: 0.6898 - val_loss: 0.9844 - val_accuracy: 0.7117\n",
      "Epoch 5/10\n",
      "1620/1620 [==============================] - 43s 27ms/step - loss: 0.8991 - accuracy: 0.7270 - val_loss: 0.8371 - val_accuracy: 0.7552\n",
      "Epoch 6/10\n",
      "1620/1620 [==============================] - 42s 26ms/step - loss: 0.7880 - accuracy: 0.7560 - val_loss: 0.7619 - val_accuracy: 0.7721\n",
      "Epoch 7/10\n",
      "1620/1620 [==============================] - 42s 26ms/step - loss: 0.7113 - accuracy: 0.7776 - val_loss: 0.7193 - val_accuracy: 0.7839\n",
      "Epoch 8/10\n",
      "1620/1620 [==============================] - 41s 26ms/step - loss: 0.6574 - accuracy: 0.7961 - val_loss: 0.6543 - val_accuracy: 0.8046\n",
      "Epoch 9/10\n",
      "1620/1620 [==============================] - 42s 26ms/step - loss: 0.5813 - accuracy: 0.8143 - val_loss: 0.6122 - val_accuracy: 0.8150\n",
      "Epoch 10/10\n",
      "1620/1620 [==============================] - 41s 25ms/step - loss: 0.5567 - accuracy: 0.8211 - val_loss: 0.6088 - val_accuracy: 0.8141\n",
      "251/251 [==============================] - 3s 9ms/step - loss: 0.4910 - accuracy: 0.8399\n"
     ]
    }
   ],
   "source": [
    "model11.compile(optimizer='adam',loss=tf.keras.losses.SparseCategoricalCrossentropy(from_logits=True),metrics=['accuracy'])\n",
    "# Fit And Evaluate The Model Using Validation Dataset\n",
    "model11.fit(x_train_11, y_train_11, epochs=10, validation_data=(x_val_11, y_val_11))\n",
    "model11.evaluate(x_test,y_test[:,10])\n",
    "y_pred11 = model11.predict(x_test)"
   ]
  },
  {
   "cell_type": "code",
   "execution_count": 38,
   "metadata": {},
   "outputs": [
    {
     "name": "stdout",
     "output_type": "stream",
     "text": [
      "1029.0\n"
     ]
    },
    {
     "data": {
      "text/plain": [
       "1029.0"
      ]
     },
     "execution_count": 38,
     "metadata": {},
     "output_type": "execute_result"
    }
   ],
   "source": [
    "y_predicted = np.zeros([qtde,11])\n",
    "y_predicted[:,0] = [np.argmax(element) for element in y_pred1]\n",
    "y_predicted[:,1] = [np.argmax(element) for element in y_pred2]\n",
    "y_predicted[:,2] = [np.argmax(element) for element in y_pred3]\n",
    "y_predicted[:,3] = [np.argmax(element) for element in y_pred4]\n",
    "y_predicted[:,4] = [np.argmax(element) for element in y_pred5]\n",
    "y_predicted[:,5] = [np.argmax(element) for element in y_pred6]\n",
    "y_predicted[:,6] = [np.argmax(element) for element in y_pred7]\n",
    "y_predicted[:,7] = [np.argmax(element) for element in y_pred8]\n",
    "y_predicted[:,8] = [np.argmax(element) for element in y_pred9]\n",
    "y_predicted[:,9] = [np.argmax(element) for element in y_pred10]\n",
    "y_predicted[:,10] = [np.argmax(element) for element in y_pred11]"
   ]
  },
  {
   "cell_type": "markdown",
   "metadata": {},
   "source": [
    "# Exportando Modelos"
   ]
  },
  {
   "cell_type": "code",
   "execution_count": 55,
   "metadata": {},
   "outputs": [
    {
     "name": "stdout",
     "output_type": "stream",
     "text": [
      "INFO:tensorflow:Assets written to: C:\\Users\\wemer\\Desktop\\tcc\\Arquivos\\Models\\Ant11\\Model1\\assets\n",
      "INFO:tensorflow:Assets written to: C:\\Users\\wemer\\Desktop\\tcc\\Arquivos\\Models\\Ant11\\Model2\\assets\n",
      "INFO:tensorflow:Assets written to: C:\\Users\\wemer\\Desktop\\tcc\\Arquivos\\Models\\Ant11\\Model3\\assets\n",
      "INFO:tensorflow:Assets written to: C:\\Users\\wemer\\Desktop\\tcc\\Arquivos\\Models\\Ant11\\Model4\\assets\n",
      "INFO:tensorflow:Assets written to: C:\\Users\\wemer\\Desktop\\tcc\\Arquivos\\Models\\Ant11\\Model5\\assets\n",
      "INFO:tensorflow:Assets written to: C:\\Users\\wemer\\Desktop\\tcc\\Arquivos\\Models\\Ant11\\Model6\\assets\n",
      "INFO:tensorflow:Assets written to: C:\\Users\\wemer\\Desktop\\tcc\\Arquivos\\Models\\Ant11\\Model7\\assets\n",
      "INFO:tensorflow:Assets written to: C:\\Users\\wemer\\Desktop\\tcc\\Arquivos\\Models\\Ant11\\Model8\\assets\n",
      "INFO:tensorflow:Assets written to: C:\\Users\\wemer\\Desktop\\tcc\\Arquivos\\Models\\Ant11\\Model9\\assets\n",
      "INFO:tensorflow:Assets written to: C:\\Users\\wemer\\Desktop\\tcc\\Arquivos\\Models\\Ant11\\Model10\\assets\n",
      "INFO:tensorflow:Assets written to: C:\\Users\\wemer\\Desktop\\tcc\\Arquivos\\Models\\Ant11\\Model11\\assets\n"
     ]
    }
   ],
   "source": [
    "model1.save('C:\\\\Users\\\\wemer\\\\Desktop\\\\tcc\\\\Arquivos\\\\Models\\\\Ant11\\\\Model1')\n",
    "model2.save('C:\\\\Users\\\\wemer\\\\Desktop\\\\tcc\\\\Arquivos\\\\Models\\\\Ant11\\\\Model2')\n",
    "model3.save('C:\\\\Users\\\\wemer\\\\Desktop\\\\tcc\\\\Arquivos\\\\Models\\\\Ant11\\\\Model3')\n",
    "model4.save('C:\\\\Users\\\\wemer\\\\Desktop\\\\tcc\\\\Arquivos\\\\Models\\\\Ant11\\\\Model4')\n",
    "model5.save('C:\\\\Users\\\\wemer\\\\Desktop\\\\tcc\\\\Arquivos\\\\Models\\\\Ant11\\\\Model5')\n",
    "model6.save('C:\\\\Users\\\\wemer\\\\Desktop\\\\tcc\\\\Arquivos\\\\Models\\\\Ant11\\\\Model6')\n",
    "model7.save('C:\\\\Users\\\\wemer\\\\Desktop\\\\tcc\\\\Arquivos\\\\Models\\\\Ant11\\\\Model7')\n",
    "model8.save('C:\\\\Users\\\\wemer\\\\Desktop\\\\tcc\\\\Arquivos\\\\Models\\\\Ant11\\\\Model8')\n",
    "model9.save('C:\\\\Users\\\\wemer\\\\Desktop\\\\tcc\\\\Arquivos\\\\Models\\\\Ant11\\\\Model9')\n",
    "model10.save('C:\\\\Users\\\\wemer\\\\Desktop\\\\tcc\\\\Arquivos\\\\Models\\\\Ant11\\\\Model10')\n",
    "model11.save('C:\\\\Users\\\\wemer\\\\Desktop\\\\tcc\\\\Arquivos\\\\Models\\\\Ant11\\\\Model11')"
   ]
  },
  {
   "cell_type": "markdown",
   "metadata": {},
   "source": [
    "# Testes únicos"
   ]
  },
  {
   "cell_type": "code",
   "execution_count": 56,
   "metadata": {},
   "outputs": [],
   "source": [
    "import tensorflow as tf\n",
    "from tensorflow.keras import datasets, layers, models\n",
    "import matplotlib.pyplot as plt\n",
    "import numpy as np\n",
    "import scipy.io\n",
    "import csv\n",
    "import pandas\n",
    "\n",
    "from sklearn.metrics import confusion_matrix , classification_report\n",
    "from sklearn.model_selection import train_test_split\n",
    "\n",
    "from tensorflow import keras"
   ]
  },
  {
   "cell_type": "code",
   "execution_count": 57,
   "metadata": {},
   "outputs": [],
   "source": [
    "#lendo redes neurais modo normal\n",
    "model1 = keras.models.load_model('C:\\\\Users\\\\wemer\\\\Desktop\\\\tcc\\\\Arquivos\\\\Models\\\\Ant11\\\\Model1')\n",
    "model2 = keras.models.load_model('C:\\\\Users\\\\wemer\\\\Desktop\\\\tcc\\\\Arquivos\\\\Models\\\\Ant11\\\\Model2')\n",
    "model3 = keras.models.load_model('C:\\\\Users\\\\wemer\\\\Desktop\\\\tcc\\\\Arquivos\\\\Models\\\\Ant11\\\\Model3')\n",
    "model4 = keras.models.load_model('C:\\\\Users\\\\wemer\\\\Desktop\\\\tcc\\\\Arquivos\\\\Models\\\\Ant11\\\\Model4')\n",
    "model5 = keras.models.load_model('C:\\\\Users\\\\wemer\\\\Desktop\\\\tcc\\\\Arquivos\\\\Models\\\\Ant11\\\\Model5')\n",
    "model6 = keras.models.load_model('C:\\\\Users\\\\wemer\\\\Desktop\\\\tcc\\\\Arquivos\\\\Models\\\\Ant11\\\\Model6')\n",
    "model7 = keras.models.load_model('C:\\\\Users\\\\wemer\\\\Desktop\\\\tcc\\\\Arquivos\\\\Models\\\\Ant11\\\\Model7')\n",
    "model8 = keras.models.load_model('C:\\\\Users\\\\wemer\\\\Desktop\\\\tcc\\\\Arquivos\\\\Models\\\\Ant11\\\\Model8')\n",
    "model9 = keras.models.load_model('C:\\\\Users\\\\wemer\\\\Desktop\\\\tcc\\\\Arquivos\\\\Models\\\\Ant11\\\\Model9')\n",
    "model10 = keras.models.load_model('C:\\\\Users\\\\wemer\\\\Desktop\\\\tcc\\\\Arquivos\\\\Models\\\\Ant11\\\\Model10')\n",
    "model11 = keras.models.load_model('C:\\\\Users\\\\wemer\\\\Desktop\\\\tcc\\\\Arquivos\\\\Models\\\\Ant11\\\\Model11')\n"
   ]
  },
  {
   "cell_type": "code",
   "execution_count": 58,
   "metadata": {},
   "outputs": [],
   "source": [
    "def conv2_binrow(y):\n",
    "    b =  [int(i) for i in list('{0:0b}'.format(y))]\n",
    "    c = np.asarray(b)\n",
    "    d = np.pad(c, (11-len(c), 0), 'constant')\n",
    "    return d"
   ]
  },
  {
   "cell_type": "code",
   "execution_count": 59,
   "metadata": {},
   "outputs": [],
   "source": [
    "def linhas_cnn(X):\n",
    "    X = X.reshape(-1, pixelsx, pixelsx, 1)\n",
    "    y_pred = np.zeros([1,11])\n",
    "    y_pred[:,0] = [np.argmax(element) for element in model1.predict(X)]\n",
    "    y_pred[:,1] = [np.argmax(element) for element in model2.predict(X)]\n",
    "    y_pred[:,2] = [np.argmax(element) for element in model3.predict(X)]\n",
    "    y_pred[:,3] = [np.argmax(element) for element in model4.predict(X)]\n",
    "    y_pred[:,4] = [np.argmax(element) for element in model5.predict(X)]\n",
    "    y_pred[:,5] = [np.argmax(element) for element in model6.predict(X)]\n",
    "    y_pred[:,6] = [np.argmax(element) for element in model7.predict(X)]\n",
    "    y_pred[:,7] = [np.argmax(element) for element in model8.predict(X)]\n",
    "    y_pred[:,8] = [np.argmax(element) for element in model9.predict(X)]\n",
    "    y_pred[:,9] = [np.argmax(element) for element in model10.predict(X)]\n",
    "    y_pred[:,10] = [np.argmax(element) for element in model11.predict(X)]\n",
    "    return y_pred;"
   ]
  },
  {
   "cell_type": "code",
   "execution_count": 63,
   "metadata": {},
   "outputs": [],
   "source": [
    "def convbin(Y):\n",
    "    y_bin = np.zeros([11,11])\n",
    "    for k in range(0,11):\n",
    "        y_bin[:,k] = conv2_binrow(int(Y[k]))\n",
    "    return y_bin;"
   ]
  },
  {
   "cell_type": "markdown",
   "metadata": {},
   "source": [
    "# Testes"
   ]
  },
  {
   "cell_type": "code",
   "execution_count": 91,
   "metadata": {},
   "outputs": [],
   "source": [
    "#carregando feixe\n",
    "x_opt_teste = scipy.io.loadmat('C:\\\\Users\\\\wemer\\\\Documents\\\\MATLAB\\\\Dataset\\\\Hologramas\\\\Teste\\\\HOLO\\\\opt_test.mat')\n",
    "x_opt_test = x_opt_teste['opt_test']\n",
    "pixelsx = 37"
   ]
  },
  {
   "cell_type": "code",
   "execution_count": 92,
   "metadata": {},
   "outputs": [],
   "source": [
    "a = linhas_cnn(x_opt_test)\n",
    "c = np.flipud(convbin(a[0]))\n",
    "scipy.io.savemat('./Arquivos/Testes_Feixes/opt_test.mat', dict(x=2,y=c))"
   ]
  },
  {
   "cell_type": "code",
   "execution_count": null,
   "metadata": {},
   "outputs": [],
   "source": []
  },
  {
   "cell_type": "markdown",
   "metadata": {},
   "source": [
    "### "
   ]
  }
 ],
 "metadata": {
  "kernelspec": {
   "display_name": "Python 3",
   "language": "python",
   "name": "python3"
  },
  "language_info": {
   "codemirror_mode": {
    "name": "ipython",
    "version": 3
   },
   "file_extension": ".py",
   "mimetype": "text/x-python",
   "name": "python",
   "nbconvert_exporter": "python",
   "pygments_lexer": "ipython3",
   "version": "3.8.5"
  }
 },
 "nbformat": 4,
 "nbformat_minor": 4
}
